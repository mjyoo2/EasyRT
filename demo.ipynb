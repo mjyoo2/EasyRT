{
 "cells": [
  {
   "cell_type": "code",
   "execution_count": 1,
   "id": "f22dff27-9178-479c-9e20-c962953ea9c9",
   "metadata": {},
   "outputs": [],
   "source": [
    "from infer import Infer\n",
    "from utils.data_prepare import pipeline\n",
    "import time"
   ]
  },
  {
   "cell_type": "code",
   "execution_count": 2,
   "id": "faeaaa85-611b-4644-9160-bf11e72d5803",
   "metadata": {},
   "outputs": [
    {
     "name": "stdout",
     "output_type": "stream",
     "text": [
      "Reading engine from file resnet.trt\n"
     ]
    }
   ],
   "source": [
    "data = pipeline() #初始数据读取\n",
    "trt_file_path = 'resnet.trt'\n",
    "output_shape = [(1,1000)]\n",
    "model = Infer(trt_file_path, output_shape)#初始化模型"
   ]
  },
  {
   "cell_type": "code",
   "execution_count": 3,
   "id": "c75120ec-3878-4243-981a-ff97099f7467",
   "metadata": {},
   "outputs": [
    {
     "name": "stdout",
     "output_type": "stream",
     "text": [
      "CPU times: user 8.8 s, sys: 408 ms, total: 9.21 s\n",
      "Wall time: 10.5 s\n"
     ]
    }
   ],
   "source": [
    "%%time\n",
    "for i in range(100):\n",
    "    img = data.preprocess('test.jpg')\n",
    "    _ = model(img)"
   ]
  },
  {
   "cell_type": "markdown",
   "id": "a8214952-5431-4720-9df4-f673bb5fd59d",
   "metadata": {},
   "source": [
    "### 对比实验(1) 小模型效果"
   ]
  },
  {
   "cell_type": "code",
   "execution_count": 12,
   "id": "6f7e808f-a2f6-4cb4-a1a5-5a62f2e479cd",
   "metadata": {},
   "outputs": [
    {
     "name": "stdout",
     "output_type": "stream",
     "text": [
      "Reading engine from file resnet.trt\n",
      "加载模型用时：6.775\n",
      "模型推理用时：10.718\n",
      "\n",
      "real\t0m20.127s\n",
      "user\t0m17.840s\n",
      "sys\t0m2.532s\n"
     ]
    }
   ],
   "source": [
    "!time python3 trt_demo.py"
   ]
  },
  {
   "cell_type": "code",
   "execution_count": 13,
   "id": "0cdb0ab9-ebd3-4413-9fb2-9643b6db8a10",
   "metadata": {},
   "outputs": [
    {
     "name": "stdout",
     "output_type": "stream",
     "text": [
      "加载模型用时：5.065\n",
      "模型推理用时：13.755\n"
     ]
    }
   ],
   "source": [
    "!time python3 torch_demo.py"
   ]
  },
  {
   "cell_type": "markdown",
   "id": "d103cb04-0ccb-45ed-a5ea-5931ad52eb64",
   "metadata": {},
   "source": [
    "### 全流程示例"
   ]
  },
  {
   "cell_type": "code",
   "execution_count": 14,
   "id": "17390c2e-f434-4a7a-a485-a27be04b2e0e",
   "metadata": {},
   "outputs": [
    {
     "name": "stdout",
     "output_type": "stream",
     "text": [
      "import torch\n",
      "import torchvision\n",
      "\n",
      "model = torchvision.models.resnet152(pretrained=True)\n",
      "\n",
      "batch_size = 1  #批处理大小\n",
      "input_shape = (3, 244, 224)   #输入数据,改成自己的输入shape\n",
      "\n",
      "# #set the model to inference mode\n",
      "model.eval()\n",
      "\n",
      "x = torch.randn(batch_size, *input_shape)\t# 生成张量\n",
      "export_onnx_file = \"resnet152.onnx\"\t\t\t# 目的ONNX文件名\n",
      "torch.onnx.export(model,\n",
      "                    x,\n",
      "                    export_onnx_file,\n",
      "                    input_names=[\"input\"],\n",
      "                    output_names=[\"output\"])"
     ]
    }
   ],
   "source": [
    "!cat utils/torch2onnx.py #定义网络模型并导出为onnx"
   ]
  },
  {
   "cell_type": "code",
   "execution_count": 15,
   "id": "92b1ac43-3c12-4f01-8783-a50083332709",
   "metadata": {},
   "outputs": [
    {
     "name": "stdout",
     "output_type": "stream",
     "text": [
      "Downloading: \"https://download.pytorch.org/models/resnet152-b121ed2d.pth\" to /home/nvidia/.cache/torch/hub/checkpoints/resnet152-b121ed2d.pth\n",
      "100.0%\n"
     ]
    }
   ],
   "source": [
    "!python3 utils/torch2onnx.py #定义网络模型并导出为onnx"
   ]
  },
  {
   "cell_type": "code",
   "execution_count": 19,
   "id": "463c34ba-c34c-4b50-905d-6454b41f15ce",
   "metadata": {},
   "outputs": [
    {
     "name": "stdout",
     "output_type": "stream",
     "text": [
      "Loading ONNX file from path resnet152.onnx...\n",
      "Beginning ONNX file parsing\n",
      "Completed parsing of ONNX file\n",
      "Building an engine from file resnet152.onnx; this may take a while...\n",
      "Completed creating Engine\n"
     ]
    }
   ],
   "source": [
    "!python3 onnx2trt.py resnet152.onnx resnet152.trt#将onnx模型转换为trt engine"
   ]
  },
  {
   "cell_type": "markdown",
   "id": "d735ec7e-f483-4a70-8e55-3a43597ee2fd",
   "metadata": {},
   "source": [
    "### 对比实验（2） 大模型测试"
   ]
  },
  {
   "cell_type": "code",
   "execution_count": 20,
   "id": "d38c68cd-bccb-4c9c-b757-f07f54f3898a",
   "metadata": {},
   "outputs": [],
   "source": [
    "### 修改对应的demo文件 改为resnet152"
   ]
  },
  {
   "cell_type": "code",
   "execution_count": 21,
   "id": "e0d80b02-5922-4a28-b67c-6eb542e5d09d",
   "metadata": {},
   "outputs": [
    {
     "name": "stdout",
     "output_type": "stream",
     "text": [
      "Reading engine from file resnet152.trt\n",
      "加载模型用时：8.510\n",
      "模型推理用时：10.744\n",
      "\n",
      "real\t0m22.085s\n",
      "user\t0m18.740s\n",
      "sys\t0m3.272s\n"
     ]
    }
   ],
   "source": [
    "!time python3 trt_demo.py"
   ]
  },
  {
   "cell_type": "code",
   "execution_count": 22,
   "id": "64a05ad8-c838-4f88-8537-c4b629d49998",
   "metadata": {},
   "outputs": [
    {
     "name": "stdout",
     "output_type": "stream",
     "text": [
      "加载模型用时：7.561\n",
      "模型推理用时：20.700\n",
      "\n",
      "real\t0m30.569s\n",
      "user\t0m29.808s\n",
      "sys\t0m2.608s\n"
     ]
    }
   ],
   "source": [
    "!time python3 torch_demo.py"
   ]
  },
  {
   "cell_type": "code",
   "execution_count": null,
   "id": "1d3c3c09-a699-4659-b9e8-c67eaa788a38",
   "metadata": {},
   "outputs": [],
   "source": []
  }
 ],
 "metadata": {
  "kernelspec": {
   "display_name": "Python 3",
   "language": "python",
   "name": "python3"
  },
  "language_info": {
   "codemirror_mode": {
    "name": "ipython",
    "version": 3
   },
   "file_extension": ".py",
   "mimetype": "text/x-python",
   "name": "python",
   "nbconvert_exporter": "python",
   "pygments_lexer": "ipython3",
   "version": "3.6.9"
  }
 },
 "nbformat": 4,
 "nbformat_minor": 5
}
